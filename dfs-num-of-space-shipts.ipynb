{
 "cells": [
  {
   "cell_type": "code",
   "execution_count": 108,
   "metadata": {},
   "outputs": [],
   "source": [
    "import numpy as np\n",
    "import pandas as pd\n",
    "\n",
    "def get_a_random_grid(size):\n",
    "    matrix = np.random.choice(['X',\".\"], size=size, replace=True)\n",
    "    return matrix"
   ]
  },
  {
   "cell_type": "raw",
   "metadata": {},
   "source": [
    "Given an 2D board, count how many battleships are in it. The battleships are represented with 'X's, empty slots are represented with '.'s. You may assume the following rules:\n",
    "You receive a valid board, made of only battleships or empty slots.\n",
    "Battleships can only be placed horizontally or vertically. In other words, they can only be made of the shape 1xN (1 row, N columns) or Nx1 (N rows, 1 column), where N can be of any size.\n",
    "At least one horizontal or vertical cell separates between two battleships - there are no adjacent battleships.\n",
    "Example:\n",
    "X..X\n",
    "...X\n",
    "...X\n",
    "In the above board there are 2 battleships.\n",
    "Invalid Example:\n",
    "...X\n",
    "XXXX\n",
    "...X\n",
    "This is an invalid board that you will not receive - as battleships will always have a cell separating between them.\n",
    "Follow up:\n",
    "Could you do it in one-pass, using only O(1) extra memory and without modifying the value of the board?"
   ]
  },
  {
   "cell_type": "code",
   "execution_count": 109,
   "metadata": {},
   "outputs": [],
   "source": [
    "m = get_a_random_grid((3,3))"
   ]
  },
  {
   "cell_type": "code",
   "execution_count": 110,
   "metadata": {
    "scrolled": true
   },
   "outputs": [],
   "source": [
    "m = np.array([\n",
    "    ['X', 'X', 'X'],\n",
    "    ['.', '.', '.'],\n",
    "    ['X', 'X', 'X']])"
   ]
  },
  {
   "cell_type": "code",
   "execution_count": 111,
   "metadata": {},
   "outputs": [
    {
     "data": {
      "text/plain": [
       "array([['X', 'X', 'X'],\n",
       "       ['.', '.', '.'],\n",
       "       ['X', 'X', 'X']], dtype='<U1')"
      ]
     },
     "execution_count": 111,
     "metadata": {},
     "output_type": "execute_result"
    }
   ],
   "source": [
    "m"
   ]
  },
  {
   "cell_type": "code",
   "execution_count": 114,
   "metadata": {},
   "outputs": [],
   "source": [
    "def solution(grid):\n",
    "    visited_grid = np.zeros_like(grid, dtype=int)\n",
    "    count = 0\n",
    "    for i in range(len(grid)):\n",
    "        for j in range(len(grid[0])):\n",
    "            if grid[i,j] == \"X\" and visited_grid[i,j] != 1:\n",
    "                dfs(grid, i,j, visited_grid)\n",
    "                count += 1\n",
    "    print(\"Count = \",count)\n",
    "                \n",
    "def dfs(grid, i,j, visited_grid):\n",
    "    if (i <0 \\\n",
    "        or j <0 \\\n",
    "        or i >= len(grid) \\\n",
    "        or j >= len(grid[0])) or grid[i,j] != \"X\" or visited_grid[i,j] == 1:\n",
    "        return\n",
    "    \n",
    "    \n",
    "    grid[i,j] = \" \"\n",
    "    t(visited_grid)\n",
    "    visited_grid[i,j] = 1\n",
    "    dfs(grid, i+1, j, visited_grid)\n",
    "    dfs(grid, i-1, j, visited_grid)\n",
    "    dfs(grid, i, j+1, visited_grid)\n",
    "    dfs(grid, i, j-1, visited_grid)"
   ]
  },
  {
   "cell_type": "code",
   "execution_count": 115,
   "metadata": {},
   "outputs": [
    {
     "name": "stdout",
     "output_type": "stream",
     "text": [
      "[[0 0 0]\n",
      " [0 0 0]\n",
      " [0 0 0]]\n",
      "[[1 0 0]\n",
      " [0 0 0]\n",
      " [0 0 0]]\n",
      "[[1 1 0]\n",
      " [0 0 0]\n",
      " [0 0 0]]\n",
      "[[1 1 1]\n",
      " [0 0 0]\n",
      " [0 0 0]]\n",
      "[[1 1 1]\n",
      " [0 0 0]\n",
      " [1 0 0]]\n",
      "[[1 1 1]\n",
      " [0 0 0]\n",
      " [1 1 0]]\n",
      "Count =  2\n"
     ]
    }
   ],
   "source": [
    "solution(m.copy())"
   ]
  },
  {
   "cell_type": "code",
   "execution_count": null,
   "metadata": {},
   "outputs": [],
   "source": []
  }
 ],
 "metadata": {
  "kernelspec": {
   "display_name": "Python 3",
   "language": "python",
   "name": "python3"
  },
  "language_info": {
   "codemirror_mode": {
    "name": "ipython",
    "version": 3
   },
   "file_extension": ".py",
   "mimetype": "text/x-python",
   "name": "python",
   "nbconvert_exporter": "python",
   "pygments_lexer": "ipython3",
   "version": "3.8.3"
  }
 },
 "nbformat": 4,
 "nbformat_minor": 4
}
