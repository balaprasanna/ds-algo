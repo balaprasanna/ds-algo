{
 "cells": [
  {
   "cell_type": "code",
   "execution_count": 27,
   "metadata": {},
   "outputs": [],
   "source": [
    "import pdb"
   ]
  },
  {
   "cell_type": "code",
   "execution_count": 47,
   "metadata": {},
   "outputs": [],
   "source": [
    "class Node:\n",
    "    \n",
    "    def __init__(self, k, next=None):\n",
    "        self.k, self.next = k, next\n",
    "    \n",
    "    def __repr__(self):\n",
    "        return f\"{self.k} => {self.next}\"\n",
    "    \n",
    "    def __gt__(self, other):\n",
    "        self.next = other\n",
    "        return self"
   ]
  },
  {
   "cell_type": "code",
   "execution_count": 51,
   "metadata": {},
   "outputs": [],
   "source": [
    "root = Node(10, Node(11, Node(13)))"
   ]
  },
  {
   "cell_type": "code",
   "execution_count": 55,
   "metadata": {},
   "outputs": [],
   "source": [
    "o = Node(10) > Node(20) > Node(30) > Node(5)"
   ]
  },
  {
   "cell_type": "code",
   "execution_count": 57,
   "metadata": {},
   "outputs": [
    {
     "data": {
      "text/plain": [
       "30 => 5 => None"
      ]
     },
     "execution_count": 57,
     "metadata": {},
     "output_type": "execute_result"
    }
   ],
   "source": [
    "o"
   ]
  },
  {
   "cell_type": "code",
   "execution_count": 13,
   "metadata": {},
   "outputs": [],
   "source": [
    "class LL:\n",
    "    \n",
    "    def __init__():\n",
    "        pass\n",
    "    \n",
    "    @staticmethod\n",
    "    def build(items):\n",
    "        pass\n",
    "    \n",
    "    def insert_first(self, k):\n",
    "        pass\n",
    "    \n",
    "    def get_first(self, k):\n",
    "        pass\n",
    "    \n",
    "    def insert_last(self, k):\n",
    "        pass\n",
    "    \n",
    "    def get_last(self, k):\n",
    "        pass\n",
    "    \n",
    "    def get_at(self, i):\n",
    "        pass\n",
    "    \n",
    "    def set_at(self, i):\n",
    "        pass\n",
    "    \n",
    "    def find(self, k):\n",
    "        pass\n",
    "    \n",
    "    @property\n",
    "    def head():\n",
    "        pass\n",
    "    \n",
    "    @property\n",
    "    def tail():\n",
    "        pass"
   ]
  },
  {
   "cell_type": "code",
   "execution_count": null,
   "metadata": {},
   "outputs": [],
   "source": [
    "LL.build([1,2,3])"
   ]
  },
  {
   "cell_type": "code",
   "execution_count": null,
   "metadata": {},
   "outputs": [],
   "source": []
  }
 ],
 "metadata": {
  "kernelspec": {
   "display_name": "Python 3",
   "language": "python",
   "name": "python3"
  },
  "language_info": {
   "codemirror_mode": {
    "name": "ipython",
    "version": 3
   },
   "file_extension": ".py",
   "mimetype": "text/x-python",
   "name": "python",
   "nbconvert_exporter": "python",
   "pygments_lexer": "ipython3",
   "version": "3.8.3"
  }
 },
 "nbformat": 4,
 "nbformat_minor": 4
}
