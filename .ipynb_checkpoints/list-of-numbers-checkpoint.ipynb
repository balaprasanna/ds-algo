{
 "cells": [
  {
   "cell_type": "code",
   "execution_count": 27,
   "metadata": {},
   "outputs": [],
   "source": [
    "ll = [1,2,3,4,7,8,9,13,14,15,19]"
   ]
  },
  {
   "cell_type": "code",
   "execution_count": 42,
   "metadata": {},
   "outputs": [
    {
     "name": "stdout",
     "output_type": "stream",
     "text": [
      "0 4\n",
      "4 7\n",
      "7 10\n",
      "curr 10\n"
     ]
    }
   ],
   "source": [
    "curr = 0\n",
    "break_point = 0\n",
    "for i in range(len(ll)):\n",
    "    if curr < len(ll) and curr+1 < len(ll):\n",
    "        if (ll[curr]+1 == ll[curr+1]):\n",
    "            #print (\"ok\", ll[i], ll[i+1])\n",
    "            pass\n",
    "        else:\n",
    "            print(break_point, i+1)\n",
    "            break_point = i+1\n",
    "#             print(\"break\", ll[i], ll[i+1])\n",
    "        curr += 1\n",
    "    else:\n",
    "        print(\"curr\",curr)"
   ]
  },
  {
   "cell_type": "code",
   "execution_count": 29,
   "metadata": {},
   "outputs": [
    {
     "data": {
      "text/plain": [
       "11"
      ]
     },
     "execution_count": 29,
     "metadata": {},
     "output_type": "execute_result"
    }
   ],
   "source": [
    "len(ll)"
   ]
  },
  {
   "cell_type": "code",
   "execution_count": null,
   "metadata": {},
   "outputs": [],
   "source": []
  }
 ],
 "metadata": {
  "kernelspec": {
   "display_name": "Python 3",
   "language": "python",
   "name": "python3"
  },
  "language_info": {
   "codemirror_mode": {
    "name": "ipython",
    "version": 3
   },
   "file_extension": ".py",
   "mimetype": "text/x-python",
   "name": "python",
   "nbconvert_exporter": "python",
   "pygments_lexer": "ipython3",
   "version": "3.8.3"
  }
 },
 "nbformat": 4,
 "nbformat_minor": 4
}
