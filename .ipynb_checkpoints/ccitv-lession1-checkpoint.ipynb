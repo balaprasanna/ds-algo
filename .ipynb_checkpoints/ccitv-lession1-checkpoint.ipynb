{
 "cells": [
  {
   "cell_type": "raw",
   "metadata": {},
   "source": [
    "1.1 Is Unique: Implement an algorithm to determine if a string has all unique characters. What if you\n",
    "cannot use additional data structures? "
   ]
  },
  {
   "cell_type": "code",
   "execution_count": 46,
   "metadata": {},
   "outputs": [],
   "source": [
    "class Solution():\n",
    "    \n",
    "    def __init__(self, inp):\n",
    "        self.inp = inp\n",
    "    \n",
    "    def execute(self):\n",
    "        print(\"inp = \",self.inp)\n",
    "        self.char_map = {}\n",
    "        \n",
    "        for char in self.inp:\n",
    "            if self.char_map.get(char,0) > 0:\n",
    "                print(\"Found duplicate char {}\".format(char))\n",
    "                return\n",
    "            self.char_map[char] = self.char_map.get(char,0) +1\n",
    "        print(self.char_map)"
   ]
  },
  {
   "cell_type": "code",
   "execution_count": 47,
   "metadata": {},
   "outputs": [
    {
     "name": "stdout",
     "output_type": "stream",
     "text": [
      "inp =  Hhelo你好好好\n",
      "Found duplicate char 好\n"
     ]
    }
   ],
   "source": [
    "Solution(\"Hhelo你好好好\").execute()"
   ]
  },
  {
   "cell_type": "code",
   "execution_count": 48,
   "metadata": {},
   "outputs": [
    {
     "name": "stdout",
     "output_type": "stream",
     "text": [
      "inp =  hello\n",
      "Found duplicate char l\n"
     ]
    }
   ],
   "source": [
    "Solution(\"hello\").execute()"
   ]
  },
  {
   "cell_type": "markdown",
   "metadata": {},
   "source": [
    "## Urlify\n",
    "---"
   ]
  },
  {
   "cell_type": "code",
   "execution_count": 2,
   "metadata": {},
   "outputs": [],
   "source": [
    "inp_string, inp_length = \"hello world.  \", len(\"hello world.\")"
   ]
  },
  {
   "cell_type": "code",
   "execution_count": 9,
   "metadata": {},
   "outputs": [],
   "source": [
    "def replace_white_space_with_20(inp, length):\n",
    "    res = ''\n",
    "    for i in range(length):\n",
    "        if inp[i] == ' ':\n",
    "            res += '%20'\n",
    "        else:\n",
    "            res += inp[i]\n",
    "    return res"
   ]
  },
  {
   "cell_type": "code",
   "execution_count": 10,
   "metadata": {
    "scrolled": false
   },
   "outputs": [
    {
     "name": "stdout",
     "output_type": "stream",
     "text": [
      "0 h\n",
      "1 e\n",
      "2 l\n",
      "3 l\n",
      "4 o\n",
      "5  \n",
      "6 w\n",
      "7 o\n",
      "8 r\n",
      "9 l\n",
      "10 d\n",
      "11 .\n"
     ]
    },
    {
     "data": {
      "text/plain": [
       "'hello%20world.'"
      ]
     },
     "execution_count": 10,
     "metadata": {},
     "output_type": "execute_result"
    }
   ],
   "source": [
    "replace_white_space_with_20(inp_string,inp_length)"
   ]
  },
  {
   "cell_type": "code",
   "execution_count": null,
   "metadata": {},
   "outputs": [],
   "source": []
  }
 ],
 "metadata": {
  "kernelspec": {
   "display_name": "Python 3",
   "language": "python",
   "name": "python3"
  },
  "language_info": {
   "codemirror_mode": {
    "name": "ipython",
    "version": 3
   },
   "file_extension": ".py",
   "mimetype": "text/x-python",
   "name": "python",
   "nbconvert_exporter": "python",
   "pygments_lexer": "ipython3",
   "version": "3.8.3"
  }
 },
 "nbformat": 4,
 "nbformat_minor": 4
}
