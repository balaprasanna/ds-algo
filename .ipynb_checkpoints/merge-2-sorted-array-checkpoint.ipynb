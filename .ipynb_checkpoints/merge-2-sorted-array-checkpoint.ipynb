{
 "cells": [
  {
   "cell_type": "markdown",
   "metadata": {},
   "source": [
    "# merge 2 sorted array"
   ]
  },
  {
   "cell_type": "code",
   "execution_count": null,
   "metadata": {},
   "outputs": [],
   "source": [
    "class Solution:\n",
    "    def findMedianSortedArrays(self, nums1: List[int], nums2: List[int]) -> float:\n",
    "        arr = self.merge_sorted_arrays_v2(nums1, nums2)\n",
    "        anchor = len(arr)//2\n",
    "        if len(arr)%2 == 0:\n",
    "            return (arr[anchor-1] + arr[anchor])/2\n",
    "        else:\n",
    "            return arr[anchor]\n",
    "    \n",
    "    def merge_sorted_arrays_v1(self,a,b):\n",
    "        return sorted(a+b)\n",
    "          \n",
    "    def merge_sorted_arrays_v2(self,a,b):\n",
    "        c = []\n",
    "        a_pointer = 0\n",
    "        b_pointer = 0\n",
    "        \n",
    "        if len(a) == 0 and len(b) == 0:\n",
    "            return []\n",
    "        \n",
    "        if len(a) == 0:\n",
    "            return b\n",
    "        \n",
    "        if len(b) == 0:\n",
    "            return a\n",
    "        \n",
    "        for i in range(max(len(a), len(b))+1):\n",
    "            # print(\"c\", c, a[a_pointer:],a_pointer, b[b_pointer:], b_pointer)\n",
    "            if len(a) == a_pointer or len(b) == b_pointer:\n",
    "                break \n",
    "            if a[a_pointer] < b[b_pointer]:\n",
    "                c.append(a[a_pointer])\n",
    "                a_pointer += 1\n",
    "            else:\n",
    "                c.append(b[b_pointer])\n",
    "                b_pointer += 1\n",
    "        \n",
    "        # print(\"c\", c, a[a_pointer:], b[b_pointer:])\n",
    "        if a_pointer < len(a):\n",
    "            c.extend(a[a_pointer:])\n",
    "        if b_pointer < len(b):\n",
    "            c.extend(b[b_pointer:])\n",
    "        # print(\"c out\", c)\n",
    "        return c"
   ]
  }
 ],
 "metadata": {
  "kernelspec": {
   "display_name": "Python 3",
   "language": "python",
   "name": "python3"
  },
  "language_info": {
   "codemirror_mode": {
    "name": "ipython",
    "version": 3
   },
   "file_extension": ".py",
   "mimetype": "text/x-python",
   "name": "python",
   "nbconvert_exporter": "python",
   "pygments_lexer": "ipython3",
   "version": "3.8.3"
  }
 },
 "nbformat": 4,
 "nbformat_minor": 4
}
