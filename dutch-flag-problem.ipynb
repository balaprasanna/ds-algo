{
 "cells": [
  {
   "cell_type": "code",
   "execution_count": null,
   "metadata": {},
   "outputs": [],
   "source": [
    "\n",
    "# Input: [1, 0, 2, 1, 0]\n",
    "# Output: [0 0 1 1 2]\n",
    "\n",
    "# Example 2:\n",
    "\n",
    "# Input: [2, 2, 0, 1, 2, 0]\n",
    "# Output: [0 0 1 2 2 2 ]"
   ]
  },
  {
   "cell_type": "code",
   "execution_count": 11,
   "metadata": {},
   "outputs": [],
   "source": [
    "# def Solution(L):\n",
    "#     return sorted(L)"
   ]
  },
  {
   "cell_type": "code",
   "execution_count": 34,
   "metadata": {},
   "outputs": [],
   "source": [
    "def swap(arr, i, j):\n",
    "    arr[i], arr[j] = arr[j], arr[i]\n",
    "\n",
    "def Solution(L):\n",
    "    left = 0\n",
    "    right = len(L)-1\n",
    "    i = 0\n",
    "    \n",
    "    while i <= right:\n",
    "        \n",
    "        if L[i] == 0:\n",
    "            swap(L, left, i)\n",
    "            left += 1\n",
    "            i += 1\n",
    "        elif L[i] == 2:\n",
    "            swap(L, i, right)\n",
    "            right -= 1\n",
    "        else:\n",
    "            i += 1\n",
    "    \n",
    "    print(L)\n",
    "    return L"
   ]
  },
  {
   "cell_type": "code",
   "execution_count": 35,
   "metadata": {},
   "outputs": [
    {
     "name": "stdout",
     "output_type": "stream",
     "text": [
      "[0, 0, 1, 1, 2]\n",
      "[0, 0, 1, 2, 2, 2]\n"
     ]
    }
   ],
   "source": [
    "assert Solution([1, 0, 2, 1, 0]) == [0,0,1,1,2]\n",
    "assert Solution([2, 2, 0, 1, 2, 0]) == [0,0,1,2,2,2]"
   ]
  },
  {
   "cell_type": "code",
   "execution_count": null,
   "metadata": {},
   "outputs": [],
   "source": []
  }
 ],
 "metadata": {
  "kernelspec": {
   "display_name": "Python 3",
   "language": "python",
   "name": "python3"
  },
  "language_info": {
   "codemirror_mode": {
    "name": "ipython",
    "version": 3
   },
   "file_extension": ".py",
   "mimetype": "text/x-python",
   "name": "python",
   "nbconvert_exporter": "python",
   "pygments_lexer": "ipython3",
   "version": "3.8.3"
  }
 },
 "nbformat": 4,
 "nbformat_minor": 4
}
