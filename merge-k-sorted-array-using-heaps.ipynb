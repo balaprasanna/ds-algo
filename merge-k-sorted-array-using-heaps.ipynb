{
 "cells": [
  {
   "cell_type": "code",
   "execution_count": 1,
   "metadata": {},
   "outputs": [],
   "source": [
    "# Definition for singly-linked list.\n",
    "class ListNode:\n",
    "    def __init__(self, val=0, next=None):\n",
    "        self.val = val\n",
    "        self.next = next\n",
    "        "
   ]
  },
  {
   "cell_type": "code",
   "execution_count": 3,
   "metadata": {},
   "outputs": [],
   "source": [
    "from typing import List"
   ]
  },
  {
   "cell_type": "code",
   "execution_count": 91,
   "metadata": {},
   "outputs": [],
   "source": [
    "import heapq\n",
    "class Solution:\n",
    "    def mergeKLists(self, lists: List[ListNode]) -> ListNode:\n",
    "        out = []\n",
    "        if len(lists) == 0:\n",
    "            return []\n",
    "        \n",
    "        minheap = []\n",
    "        \n",
    "        pointers = {}\n",
    "        for i in range(len(lists)):\n",
    "            pointers[i] = lists[i]\n",
    "        \n",
    "        add_element_from_k = False\n",
    "        for k in pointers:\n",
    "            heapq.heappush(minheap, (pointers[k].val, k))\n",
    "        \n",
    "        while True:            \n",
    "            if add_element_from_k:\n",
    "                heapq.heappush(minheap, (pointers[add_element_from_this_key].val, add_element_from_this_key))\n",
    "\n",
    "            # get min element & arr ref from min heap\n",
    "            val = heapq.heappop(minheap)\n",
    "            # append to final merged list\n",
    "            out.append(val[0])\n",
    "            \n",
    "            key = val[1]\n",
    "            print(minheap)\n",
    "            if pointers[key].next != None:\n",
    "                add_element_from_k = True\n",
    "                add_element_from_this_key = key\n",
    "                pointers[key] = pointers[key].next\n",
    "                print(\"moved pointer for {} arr: out= {}\".format(key, out))\n",
    "            else:\n",
    "                #reached last element for this key\n",
    "                add_element_from_k = False\n",
    "                continue\n",
    "            # get min element from min heap\n",
    "            if len(minheap) == 0:\n",
    "                print(\"breaking since no elements in heap\")\n",
    "                break\n",
    "        print(out)"
   ]
  },
  {
   "cell_type": "code",
   "execution_count": 92,
   "metadata": {},
   "outputs": [],
   "source": [
    "l1 = ListNode(1, ListNode(2, ListNode(5)))\n",
    "l2 = ListNode(4, ListNode(5, ListNode(7)))\n",
    "l3 = ListNode(10, ListNode(11, ListNode(13)))"
   ]
  },
  {
   "cell_type": "code",
   "execution_count": 93,
   "metadata": {},
   "outputs": [
    {
     "data": {
      "text/plain": [
       "<__main__.ListNode at 0x7fabc9d0dc40>"
      ]
     },
     "execution_count": 93,
     "metadata": {},
     "output_type": "execute_result"
    }
   ],
   "source": [
    "Solution().mergeKLists([l1,l2,l3])"
   ]
  },
  {
   "cell_type": "code",
   "execution_count": 94,
   "metadata": {},
   "outputs": [],
   "source": [
    "# Definition for singly-linked list.\n",
    "# class ListNode:\n",
    "#     def __init__(self, val=0, next=None):\n",
    "#         self.val = val\n",
    "#         self.next = next\n",
    "import heapq\n",
    "\n",
    "class Solution:\n",
    "    def mergeKLists(self, lists: List[ListNode]) -> ListNode:\n",
    "        out = []\n",
    "        if len(lists) == 0:\n",
    "            return None\n",
    "        \n",
    "        minheap = []\n",
    "        \n",
    "        pointers = {}\n",
    "        for i in range(len(lists)):\n",
    "            if hasattr(lists[i],'val') and lists[i].val != None:\n",
    "                pointers[i] = lists[i]\n",
    "        \n",
    "        add_element_from_k = False\n",
    "        for k in pointers:\n",
    "            heapq.heappush(minheap, (pointers[k].val, k))\n",
    "        \n",
    "        while True:            \n",
    "            if add_element_from_k:\n",
    "                heapq.heappush(minheap, (pointers[add_element_from_this_key].val,\n",
    "                                         add_element_from_this_key))\n",
    "\n",
    "            # get min element from min heap\n",
    "            if len(minheap) == 0:\n",
    "                break\n",
    "            # get min element & arr ref from min heap\n",
    "            val = heapq.heappop(minheap)\n",
    "            # append to final merged list\n",
    "            out.append(val[0])\n",
    "            \n",
    "            key = val[1]\n",
    "            # print(minheap)\n",
    "            if pointers[key].next != None:\n",
    "                add_element_from_k = True\n",
    "                add_element_from_this_key = key\n",
    "                pointers[key] = pointers[key].next\n",
    "                # print(\"moved pointer for {} arr: out= {}\".format(key, out))\n",
    "            else:\n",
    "                #reached last element for this key\n",
    "                add_element_from_k = False\n",
    "                continue\n",
    "                \n",
    "        head = None\n",
    "        for _ in range(len(out)):\n",
    "            head = ListNode(out.pop(), head)\n",
    "        return head\n",
    "        "
   ]
  },
  {
   "cell_type": "code",
   "execution_count": null,
   "metadata": {},
   "outputs": [],
   "source": []
  }
 ],
 "metadata": {
  "kernelspec": {
   "display_name": "Python 3",
   "language": "python",
   "name": "python3"
  },
  "language_info": {
   "codemirror_mode": {
    "name": "ipython",
    "version": 3
   },
   "file_extension": ".py",
   "mimetype": "text/x-python",
   "name": "python",
   "nbconvert_exporter": "python",
   "pygments_lexer": "ipython3",
   "version": "3.8.3"
  }
 },
 "nbformat": 4,
 "nbformat_minor": 4
}
